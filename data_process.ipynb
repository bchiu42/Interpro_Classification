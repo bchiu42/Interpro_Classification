{
 "cells": [
  {
   "cell_type": "code",
   "execution_count": 1,
   "metadata": {},
   "outputs": [],
   "source": [
    "import torch\n",
    "import pandas as pd\n",
    "import numpy as np"
   ]
  },
  {
   "cell_type": "code",
   "execution_count": 2,
   "metadata": {},
   "outputs": [],
   "source": [
    "# ID processing\n",
    "ids =  open(\"interpro_term_ids.txt\", \"r\")\n",
    "lines = ids.read().split()\n",
    "id_dict = {}\n",
    "for i in range(0,len(lines),2):\n",
    "    # print(lines[i])\n",
    "    # print(lines[i+1])\n",
    "    id_dict[i/2] = lines[i]\n",
    "    tes"
   ]
  },
  {
   "cell_type": "code",
   "execution_count": 3,
   "metadata": {},
   "outputs": [
    {
     "name": "stdout",
     "output_type": "stream",
     "text": [
      "27612\n"
     ]
    }
   ],
   "source": [
    "# Term Processing \n",
    "terms = open(\"interpro_terms.txt\", \"r\")\n",
    "lines = terms.read().split('\\n')\n",
    "term_dict = {}\n",
    "num_categories = 1\n",
    "saved = \"\"\n",
    "for i in range(len(lines)):\n",
    "    line_array = lines[i].split()\n",
    "    term_dict[line_array[0]] = list(map(int, line_array[1:]))\n",
    "    # if num_categories < max(term_dict[line_array[0]]):\n",
    "    #     saved = line_array\n",
    "    num_categories = max(num_categories, max(term_dict[line_array[0]]))\n",
    "    \n",
    "#     if i > 10:\n",
    "#         break\n",
    "# print(term_dict)\n",
    "num_categories = num_categories+1\n",
    "print(num_categories)\n",
    "# print(saved)\n"
   ]
  },
  {
   "cell_type": "code",
   "execution_count": 4,
   "metadata": {},
   "outputs": [
    {
     "name": "stdout",
     "output_type": "stream",
     "text": [
      "torch.Size([127218, 27612])\n",
      "tensor(541716.)\n"
     ]
    }
   ],
   "source": [
    "multi_hot_labels = torch.zeros((len(term_dict),num_categories))\n",
    "count = 0\n",
    "for prot in term_dict:\n",
    "    # temp = torch.zeros(num_categories)\n",
    "    int_terms = term_dict[prot]\n",
    "    # temp[int_terms] = 1\n",
    "    multi_hot_labels[count][int_terms] = 1\n",
    "    # multi_hot_labels = torch.cat((multi_hot_labels,temp),1)\n",
    "    count += 1\n",
    "print(multi_hot_labels.shape)\n",
    "print(torch.sum(multi_hot_labels))\n"
   ]
  },
  {
   "cell_type": "code",
   "execution_count": 38,
   "metadata": {},
   "outputs": [],
   "source": [
    "from sklearn.decomposition import NMF, PCA, TruncatedSVD\n",
    "# model = NMF(n_components=1024, init= 'random', random_state=0)\n",
    "# W = model.fit_transform(multi_hot_labels)\n",
    "svd = TruncatedSVD(n_components=1024)\n",
    "svd.fit(multi_hot_labels)"
   ]
  },
  {
   "cell_type": "code",
   "execution_count": 18,
   "metadata": {},
   "outputs": [
    {
     "data": {
      "text/html": [
       "<style>#sk-container-id-2 {color: black;background-color: white;}#sk-container-id-2 pre{padding: 0;}#sk-container-id-2 div.sk-toggleable {background-color: white;}#sk-container-id-2 label.sk-toggleable__label {cursor: pointer;display: block;width: 100%;margin-bottom: 0;padding: 0.3em;box-sizing: border-box;text-align: center;}#sk-container-id-2 label.sk-toggleable__label-arrow:before {content: \"▸\";float: left;margin-right: 0.25em;color: #696969;}#sk-container-id-2 label.sk-toggleable__label-arrow:hover:before {color: black;}#sk-container-id-2 div.sk-estimator:hover label.sk-toggleable__label-arrow:before {color: black;}#sk-container-id-2 div.sk-toggleable__content {max-height: 0;max-width: 0;overflow: hidden;text-align: left;background-color: #f0f8ff;}#sk-container-id-2 div.sk-toggleable__content pre {margin: 0.2em;color: black;border-radius: 0.25em;background-color: #f0f8ff;}#sk-container-id-2 input.sk-toggleable__control:checked~div.sk-toggleable__content {max-height: 200px;max-width: 100%;overflow: auto;}#sk-container-id-2 input.sk-toggleable__control:checked~label.sk-toggleable__label-arrow:before {content: \"▾\";}#sk-container-id-2 div.sk-estimator input.sk-toggleable__control:checked~label.sk-toggleable__label {background-color: #d4ebff;}#sk-container-id-2 div.sk-label input.sk-toggleable__control:checked~label.sk-toggleable__label {background-color: #d4ebff;}#sk-container-id-2 input.sk-hidden--visually {border: 0;clip: rect(1px 1px 1px 1px);clip: rect(1px, 1px, 1px, 1px);height: 1px;margin: -1px;overflow: hidden;padding: 0;position: absolute;width: 1px;}#sk-container-id-2 div.sk-estimator {font-family: monospace;background-color: #f0f8ff;border: 1px dotted black;border-radius: 0.25em;box-sizing: border-box;margin-bottom: 0.5em;}#sk-container-id-2 div.sk-estimator:hover {background-color: #d4ebff;}#sk-container-id-2 div.sk-parallel-item::after {content: \"\";width: 100%;border-bottom: 1px solid gray;flex-grow: 1;}#sk-container-id-2 div.sk-label:hover label.sk-toggleable__label {background-color: #d4ebff;}#sk-container-id-2 div.sk-serial::before {content: \"\";position: absolute;border-left: 1px solid gray;box-sizing: border-box;top: 0;bottom: 0;left: 50%;z-index: 0;}#sk-container-id-2 div.sk-serial {display: flex;flex-direction: column;align-items: center;background-color: white;padding-right: 0.2em;padding-left: 0.2em;position: relative;}#sk-container-id-2 div.sk-item {position: relative;z-index: 1;}#sk-container-id-2 div.sk-parallel {display: flex;align-items: stretch;justify-content: center;background-color: white;position: relative;}#sk-container-id-2 div.sk-item::before, #sk-container-id-2 div.sk-parallel-item::before {content: \"\";position: absolute;border-left: 1px solid gray;box-sizing: border-box;top: 0;bottom: 0;left: 50%;z-index: -1;}#sk-container-id-2 div.sk-parallel-item {display: flex;flex-direction: column;z-index: 1;position: relative;background-color: white;}#sk-container-id-2 div.sk-parallel-item:first-child::after {align-self: flex-end;width: 50%;}#sk-container-id-2 div.sk-parallel-item:last-child::after {align-self: flex-start;width: 50%;}#sk-container-id-2 div.sk-parallel-item:only-child::after {width: 0;}#sk-container-id-2 div.sk-dashed-wrapped {border: 1px dashed gray;margin: 0 0.4em 0.5em 0.4em;box-sizing: border-box;padding-bottom: 0.4em;background-color: white;}#sk-container-id-2 div.sk-label label {font-family: monospace;font-weight: bold;display: inline-block;line-height: 1.2em;}#sk-container-id-2 div.sk-label-container {text-align: center;}#sk-container-id-2 div.sk-container {/* jupyter's `normalize.less` sets `[hidden] { display: none; }` but bootstrap.min.css set `[hidden] { display: none !important; }` so we also need the `!important` here to be able to override the default hidden behavior on the sphinx rendered scikit-learn.org. See: https://github.com/scikit-learn/scikit-learn/issues/21755 */display: inline-block !important;position: relative;}#sk-container-id-2 div.sk-text-repr-fallback {display: none;}</style><div id=\"sk-container-id-2\" class=\"sk-top-container\"><div class=\"sk-text-repr-fallback\"><pre>TruncatedSVD()</pre><b>In a Jupyter environment, please rerun this cell to show the HTML representation or trust the notebook. <br />On GitHub, the HTML representation is unable to render, please try loading this page with nbviewer.org.</b></div><div class=\"sk-container\" hidden><div class=\"sk-item\"><div class=\"sk-estimator sk-toggleable\"><input class=\"sk-toggleable__control sk-hidden--visually\" id=\"sk-estimator-id-2\" type=\"checkbox\" checked><label for=\"sk-estimator-id-2\" class=\"sk-toggleable__label sk-toggleable__label-arrow\">TruncatedSVD</label><div class=\"sk-toggleable__content\"><pre>TruncatedSVD()</pre></div></div></div></div></div>"
      ],
      "text/plain": [
       "TruncatedSVD()"
      ]
     },
     "execution_count": 18,
     "metadata": {},
     "output_type": "execute_result"
    }
   ],
   "source": [
    "from sklearn.decomposition import NMF, PCA, TruncatedSVD\n",
    "# model = NMF(n_components=1024, init= 'random', random_state=0)\n",
    "# W = model.fit_transform(multi_hot_labels)\n",
    "svd_trans = TruncatedSVD(n_components=2)\n",
    "svd_trans.fit(torch.transpose(multi_hot_labels,0,1))"
   ]
  },
  {
   "cell_type": "code",
   "execution_count": 24,
   "metadata": {},
   "outputs": [],
   "source": [
    "left_sing_vect = np.matmul(multi_hot_labels,np.transpose(svd.components_))\n"
   ]
  },
  {
   "cell_type": "code",
   "execution_count": 37,
   "metadata": {},
   "outputs": [
    {
     "name": "stdout",
     "output_type": "stream",
     "text": [
      "[[ 4.4540856e-03  1.3745555e-02]\n",
      " [ 7.6809247e-06  3.2748242e-06]\n",
      " [ 4.2494116e-06  4.4854132e-06]\n",
      " ...\n",
      " [ 1.8362008e-03  1.0325168e-03]\n",
      " [ 9.5295710e-22  2.8189123e-20]\n",
      " [ 2.2389402e-04 -5.9745670e-04]]\n",
      "tensor([[ 4.4541e-03,  1.3746e-02],\n",
      "        [ 7.6809e-06,  3.2748e-06],\n",
      "        [ 4.2494e-06,  4.4854e-06],\n",
      "        ...,\n",
      "        [ 1.8362e-03,  1.0325e-03],\n",
      "        [ 9.5296e-22,  2.8189e-20],\n",
      "        [ 2.2389e-04, -5.9746e-04]])\n"
     ]
    }
   ],
   "source": [
    "# print(np.shape(svd.components_))\n",
    "# print(np.shape(left_sing_vect))\n",
    "# print(np.shape(svd_trans.components_))\n",
    "# print(np.shape(svd.transform(multi_hot_labels)))\n",
    "# print(left_sing_vect)\n",
    "trans_Int = svd.transform(multi_hot_labels)\n",
    "np.save(\"Transformed_Interpro\",trans_Int)\n",
    "# print(svd.n_features_in_)"
   ]
  },
  {
   "cell_type": "code",
   "execution_count": 35,
   "metadata": {},
   "outputs": [
    {
     "name": "stdout",
     "output_type": "stream",
     "text": [
      "<bound method Response.iter_content of <Response [200]>>\n"
     ]
    }
   ],
   "source": [
    "# Code for getting homology for randomly sampled proteins from train dataset, \n",
    "import requests\n",
    "import random\n",
    "#randomly sampling train uniprot ids\n",
    "random.seed(0)\n",
    "sampled_protein_indicies = random.sample(range(0,len(term_dict)),1)\n",
    "sampled_uniprot = []\n",
    "# response = requests.get(\"https://string-db.org/api/tsv/homology?identifiers=[your_identifiers]\")\n",
    "# https://string-db.org/api/tsv/homology?identifiers=CDK1%0dCDK2\n",
    "responses = []\n",
    "api_str = \"https://string-db.org/api/tsv/homology?identifiers=\" \n",
    "for i in range(len(sampled_protein_indicies)):\n",
    "    cur_uniprot = [*term_dict][sampled_protein_indicies[i]]\n",
    "    sampled_uniprot.append(cur_uniprot)  \n",
    "    response = requests.get(api_str + cur_uniprot)\n",
    "    responses.append(response)\n",
    "# help(response)\n",
    "print(response.iter_content)"
   ]
  },
  {
   "cell_type": "code",
   "execution_count": 31,
   "metadata": {},
   "outputs": [
    {
     "name": "stderr",
     "output_type": "stream",
     "text": [
      "<>:2: SyntaxWarning: list indices must be integers or slices, not tuple; perhaps you missed a comma?\n",
      "<>:2: SyntaxWarning: list indices must be integers or slices, not tuple; perhaps you missed a comma?\n",
      "C:\\Users\\bchiu\\AppData\\Local\\Temp\\ipykernel_21728\\3177927013.py:2: SyntaxWarning: list indices must be integers or slices, not tuple; perhaps you missed a comma?\n",
      "  print([*lit][1,3])\n",
      "C:\\Users\\bchiu\\AppData\\Local\\Temp\\ipykernel_21728\\3177927013.py:2: SyntaxWarning: list indices must be integers or slices, not tuple; perhaps you missed a comma?\n",
      "  print([*lit][1,3])\n",
      "C:\\Users\\bchiu\\AppData\\Local\\Temp\\ipykernel_21728\\3177927013.py:2: SyntaxWarning: list indices must be integers or slices, not tuple; perhaps you missed a comma?\n",
      "  print([*lit][1,3])\n"
     ]
    },
    {
     "ename": "TypeError",
     "evalue": "list indices must be integers or slices, not tuple",
     "output_type": "error",
     "traceback": [
      "\u001b[1;31m---------------------------------------------------------------------------\u001b[0m",
      "\u001b[1;31mTypeError\u001b[0m                                 Traceback (most recent call last)",
      "Cell \u001b[1;32mIn[31], line 2\u001b[0m\n\u001b[0;32m      1\u001b[0m lit \u001b[39m=\u001b[39m term_dict\n\u001b[1;32m----> 2\u001b[0m \u001b[39mprint\u001b[39m([\u001b[39m*\u001b[39;49mlit][\u001b[39m1\u001b[39;49m,\u001b[39m3\u001b[39;49m])\n",
      "\u001b[1;31mTypeError\u001b[0m: list indices must be integers or slices, not tuple"
     ]
    }
   ],
   "source": [
    "lit = term_dict\n",
    "print([*lit][1])"
   ]
  },
  {
   "cell_type": "code",
   "execution_count": 7,
   "metadata": {},
   "outputs": [
    {
     "name": "stdout",
     "output_type": "stream",
     "text": [
      "[82333, 58542, 70545, 42445, 48130, 49734, 100951, 44419, 59107, 112221]\n"
     ]
    }
   ],
   "source": []
  }
 ],
 "metadata": {
  "kernelspec": {
   "display_name": "chemtda",
   "language": "python",
   "name": "python3"
  },
  "language_info": {
   "codemirror_mode": {
    "name": "ipython",
    "version": 3
   },
   "file_extension": ".py",
   "mimetype": "text/x-python",
   "name": "python",
   "nbconvert_exporter": "python",
   "pygments_lexer": "ipython3",
   "version": "3.9.16"
  },
  "orig_nbformat": 4
 },
 "nbformat": 4,
 "nbformat_minor": 2
}
